{
 "cells": [
  {
   "cell_type": "code",
   "execution_count": 1,
   "metadata": {},
   "outputs": [],
   "source": [
    "%load_ext autoreload\n",
    "%autoreload 2"
   ]
  },
  {
   "cell_type": "markdown",
   "metadata": {},
   "source": [
    "## DCR Slope Precision Metric\n",
    "\n",
    "<br>**Author(s):** Weixiang Yu & Gordon Richards\n",
    "<br>**Last updated:** 08-14-20\n",
    "<br>**Short description:**\n",
    "This notebook build upon Peter Yoachim's `DcrPrecisionMetric` demonstrated [here](https://github.com/lsst/sims_maf/blob/master/python/lsst/sims/maf/metrics/dcrMetric.py). Two goals set to achieve in this notebook: \n",
    "1. Demonstrate the scaling relationship for Peter's slope uncertainty\n",
    "2. Investigate the Bevington method to compute slope uncertainty and compare it to Peters'"
   ]
  },
  {
   "cell_type": "markdown",
   "metadata": {},
   "source": [
    "### 0. Software Setup"
   ]
  },
  {
   "cell_type": "code",
   "execution_count": 2,
   "metadata": {},
   "outputs": [],
   "source": [
    "your_username = 'ywx649999311'"
   ]
  },
  {
   "cell_type": "code",
   "execution_count": 3,
   "metadata": {},
   "outputs": [],
   "source": [
    "%matplotlib inline\n",
    "import matplotlib.pyplot as plt\n",
    "import matplotlib as mpl\n",
    "import pandas as pd\n",
    "import numpy as np\n",
    "import glob\n",
    "import os\n",
    "\n",
    "mpl.rcParams['figure.dpi'] = 100"
   ]
  },
  {
   "cell_type": "markdown",
   "metadata": {},
   "source": [
    "Import the sims_maf modules needed."
   ]
  },
  {
   "cell_type": "code",
   "execution_count": 4,
   "metadata": {},
   "outputs": [],
   "source": [
    "# import lsst.sim.maf moduels modules\n",
    "import lsst.sims.maf.db as db\n",
    "import lsst.sims.maf.metrics as metrics\n",
    "import lsst.sims.maf.slicers as slicers\n",
    "import lsst.sims.maf.stackers as stackers\n",
    "from lsst.sims.maf.stackers import BaseStacker\n",
    "import lsst.sims.maf.plots as plots\n",
    "import lsst.sims.maf.metricBundles as metricBundles\n",
    "\n",
    "# add opsimUtils module path to search\n",
    "import sys\n",
    "sys.path.insert(0, '../Scripts_NBs/')\n",
    "\n",
    "# import convenience functions\n",
    "from opsimUtils import *"
   ]
  },
  {
   "cell_type": "code",
   "execution_count": 5,
   "metadata": {},
   "outputs": [
    {
     "name": "stderr",
     "output_type": "stream",
     "text": [
      "/home/idies/lsst/python/miniconda3-4.7.10/envs/lsst-scipipe-4d7b902/lib/python3.7/site-packages/dask/config.py:168: YAMLLoadWarning: calling yaml.load() without Loader=... is deprecated, as the default Loader is unsafe. Please read https://msg.pyyaml.org/load for full details.\n",
      "  data = yaml.load(f.read()) or {}\n"
     ]
    },
    {
     "data": {
      "text/html": [
       "<table style=\"border: 2px solid white;\">\n",
       "<tr>\n",
       "<td style=\"vertical-align: top; border: 0px solid white\">\n",
       "<h3>Client</h3>\n",
       "<ul>\n",
       "  <li><b>Scheduler: </b>tcp://127.0.0.1:44280\n",
       "</ul>\n",
       "</td>\n",
       "<td style=\"vertical-align: top; border: 0px solid white\">\n",
       "<h3>Cluster</h3>\n",
       "<ul>\n",
       "  <li><b>Workers: </b>16</li>\n",
       "  <li><b>Cores: </b>16</li>\n",
       "  <li><b>Memory: </b>257.77 GB</li>\n",
       "</ul>\n",
       "</td>\n",
       "</tr>\n",
       "</table>"
      ],
      "text/plain": [
       "<Client: scheduler='tcp://127.0.0.1:44280' processes=16 cores=16>"
      ]
     },
     "execution_count": 5,
     "metadata": {},
     "output_type": "execute_result"
    }
   ],
   "source": [
    "# import dask and create client\n",
    "from dask.distributed import Client\n",
    "client = Client(n_workers=16)\n",
    "client"
   ]
  },
  {
   "cell_type": "markdown",
   "metadata": {},
   "source": [
    "## 1. The Metric\n",
    "### 1.1 Define the metric"
   ]
  },
  {
   "cell_type": "code",
   "execution_count": 12,
   "metadata": {},
   "outputs": [
    {
     "name": "stderr",
     "output_type": "stream",
     "text": [
      "/home/idies/lsst/stack/miniconda3-4.7.10-4d7b902/Linux64/sims_maf/2.13.0.sims-24-gbe21ed04+1/python/lsst/sims/maf/metrics/baseMetric.py:39: UserWarning: Redefining metric __main__.AGN_DCR! (there are >1 metrics with the same name)\n",
      "  warnings.warn('Redefining metric %s! (there are >1 metrics with the same name)' % (metricname))\n"
     ]
    }
   ],
   "source": [
    "from lsst.sims.maf.metrics import BaseMetric\n",
    "\n",
    "from lsst.sims.maf.metrics import BaseMetric\n",
    "from lsst.sims.maf.utils.astrometryUtils import m52snr, astrom_precision, sigma_slope\n",
    "\n",
    "class AGN_DCR(BaseMetric):\n",
    "    \"\"\"AGN DCR\"\"\"\n",
    "    \n",
    "    def __init__(self, band, src_mag=22, seeingCol='seeingFwhmGeom', m5Col='fiveSigmaDepth',\n",
    "                 PACol='paraAngle', filterCol='filter', atm_err=0.01, Bv=True, PA=False, **kwargs):\n",
    "        \n",
    "        self.band = band # required\n",
    "        self.src_mag = src_mag\n",
    "        self.m5Col = m5Col\n",
    "        self.PACol = PACol\n",
    "        self.seeingCol = seeingCol\n",
    "        self.filterCol = filterCol\n",
    "        self.atm_err = 0.01\n",
    "        self.Bv = Bv\n",
    "        self.PA = PA\n",
    "        self.metricName = f'DCR_{src_mag}_{self.band}'\n",
    "        \n",
    "        cols=['airmass', self.filterCol, self.m5Col, self.PACol, self.seeingCol]\n",
    "        super(AGN_DCR, self).__init__(col=cols, metricName=self.metricName, **kwargs)\n",
    "        \n",
    "    def run(self, dataSlice, slicePoint=None):\n",
    "        \n",
    "        # get the data only corresponding the the desired filter\n",
    "        data_filt = dataSlice[np.where(dataSlice[self.filterCol] == self.band)]\n",
    "        \n",
    "        # Compute the SNR from the observed mag and limiting mag\n",
    "        # https://sims-maf.lsst.io/_modules/lsst/sims/maf/utils/astrometryUtils.html#m52snr\n",
    "        snr = m52snr(self.src_mag, data_filt[self.m5Col])\n",
    "\n",
    "        # The positional error is just the seeing scaled by the SNR with the error floor added in quadrature\n",
    "        # https://sims-maf.lsst.io/_modules/lsst/sims/maf/utils/astrometryUtils.html#astrom_precisio\n",
    "        pos_var = np.power(astrom_precision(data_filt[self.seeingCol], snr), 2) \\\n",
    "                  + self.atm_err**2\n",
    "        pos_err = np.sqrt(pos_var)\n",
    "        \n",
    "        # compute tan(Z)\n",
    "        zenith = np.arccos(1/data_filt['airmass'])\n",
    "        \n",
    "        # check if use the Bevington version\n",
    "        if not self.Bv:\n",
    "            # check if use Peter's PA term\n",
    "            # note that the PA drops out in the end anyway\n",
    "            if not self.PA:\n",
    "                x_coord = np.tan(zenith)\n",
    "                slope_uncerts = pos_err/x_coord\n",
    "                total_slope_uncert = 1./np.sqrt(np.sum(1./slope_uncerts**2))\n",
    "\n",
    "            else:\n",
    "                # compute projection of DCR offset onto RA and Dec\n",
    "                x_coord = np.tan(zenith)*np.sin(np.radians(dataSlice[self.PACol]))\n",
    "                x_coord2 = np.tan(zenith)*np.cos(np.radians(dataSlice[self.PACol]))\n",
    "\n",
    "                # function is of form, y=ax. a=y/x. da = dy/x.\n",
    "                # Only strictly true if we know the unshifted position. But this should be a reasonable approx            \n",
    "                slope_uncerts = pos_err/x_coord\n",
    "                slope_uncerts2 = pos_err/x_coord2\n",
    "\n",
    "                # error propagation\n",
    "                # Assuming we know the unshfted position of the object (or there's little covariance if we are fitting for both)\n",
    "                total_slope_uncert = 1./np.sqrt(np.sum(1./slope_uncerts**2)+np.sum(1./slope_uncerts2**2))\n",
    "\n",
    "            result = total_slope_uncert\n",
    "        \n",
    "        else:\n",
    "            \n",
    "            ## version from Bevington page 109 from least-square\n",
    "            x_coord = np.tan(zenith)\n",
    "            result = sigma_slope(x_coord, pos_err)\n",
    "        \n",
    "        return result"
   ]
  },
  {
   "cell_type": "code",
   "execution_count": 5,
   "metadata": {},
   "outputs": [],
   "source": [
    "if your_username == '': # do NOT put your username here, put it in the cell at the top of the notebook.\n",
    "    raise Exception('Please provide your username!  See the top of the notebook.')\n",
    "\n",
    "dbDir = '/home/idies/workspace/lsst_cadence/FBS_1.5/'\n",
    "\n",
    "# temporary dir for testing\n",
    "tmp_OutDir = f'../tmp/DCR/0814/ResultDBs/'\n",
    "tmp_metricDataPath = f'../tmp/DCR/0814/MetricData/'\n",
    "\n",
    "# dir to store data for sharing\n",
    "outDir = f'/home/idies/workspace/Temporary/{your_username}/LSST_MAF/wy/DCR/0814/ResultDBs/'\n",
    "metricDataPath = f'/home/idies/workspace/Temporary/{your_username}/LSST_MAF/wy/DCR/0814/MetricData/'\n",
    "\n",
    "for path in [tmp_OutDir, tmp_metricDataPath, outDir, metricDataPath]:\n",
    "    if not os.path.exists(os.path.abspath(path)):\n",
    "        os.makedirs(os.path.abspath(path))"
   ]
  },
  {
   "cell_type": "code",
   "execution_count": 7,
   "metadata": {},
   "outputs": [],
   "source": [
    "opsdb = db.OpsimDatabase(os.path.join(dbDir, 'baseline_v1.5_10yrs.db'))\n",
    "resultDb = db.ResultsDb(outDir = tmp_OutDir)"
   ]
  },
  {
   "cell_type": "markdown",
   "metadata": {},
   "source": [
    "### 1.2 Run metrics for comparision on Baseline cadence\n",
    "We will run g band DCR precision at mag = 20 and 22 with two methods."
   ]
  },
  {
   "cell_type": "code",
   "execution_count": 60,
   "metadata": {},
   "outputs": [
    {
     "name": "stdout",
     "output_type": "stream",
     "text": [
      "Healpix slicer using NSIDE=64, approximate resolution 54.967783 arcminutes\n",
      "Healpix slicer using NSIDE=64, approximate resolution 54.967783 arcminutes\n",
      "Healpix slicer using NSIDE=64, approximate resolution 54.967783 arcminutes\n",
      "Healpix slicer using NSIDE=64, approximate resolution 54.967783 arcminutes\n"
     ]
    }
   ],
   "source": [
    "bundleDict = {}\n",
    "for gmag in [20, 22]:\n",
    "    \n",
    "    # declare metric, slicer and sql contraint\n",
    "    DCR_metricG = AGN_DCR('g', src_mag=gmag)\n",
    "    slicer = slicers.HealpixSlicer(nside=64)\n",
    "    constraintG = 'filter = \"g\"'\n",
    "    constraintG += ' and note not like \"DD%\"'\n",
    "    constraintG += ' and proposalId = 1'\n",
    "    \n",
    "    # make a bundle\n",
    "    DCR_mbG = metricBundles.MetricBundle(DCR_metricG, slicer, constraintG)\n",
    "    summaryMetrics = [metrics.MedianMetric(), metrics.MeanMetric(), metrics.RmsMetric()]\n",
    "    DCR_mbG.setSummaryMetrics(summaryMetrics)\n",
    "    \n",
    "    # declare metric, slicer and sql contraint\n",
    "    DCR_metricG_Bv = AGN_DCR('g', src_mag=gmag, Bv=True)\n",
    "    DCR_metricG_Bv.metricName = DCR_metricG.metricName + '_Bv'\n",
    "    slicer = slicers.HealpixSlicer(nside=64)\n",
    "    constraintG = 'filter = \"g\"'\n",
    "    constraintG += ' and note not like \"DD%\"'\n",
    "    constraintG += ' and proposalId = 1'\n",
    "    \n",
    "    # make a bundle\n",
    "    DCR_mbG_Bv = metricBundles.MetricBundle(DCR_metricG_Bv, slicer, constraintG)\n",
    "    summaryMetrics = [metrics.MedianMetric(), metrics.MeanMetric(), metrics.RmsMetric()]\n",
    "    DCR_mbG_Bv.setSummaryMetrics(summaryMetrics)\n",
    "\n",
    "    # put into dict\n",
    "    bundleDict[DCR_metricG.metricName] = DCR_mbG\n",
    "    bundleDict[DCR_metricG_Bv.metricName] = DCR_mbG_Bv"
   ]
  },
  {
   "cell_type": "code",
   "execution_count": 61,
   "metadata": {},
   "outputs": [
    {
     "name": "stdout",
     "output_type": "stream",
     "text": [
      "Querying database SummaryAllProps with constraint filter = \"g\" and note not like \"DD%\" and proposalId = 1 for columns ['filter', 'fieldRA', 'seeingFwhmGeom', 'paraAngle', 'fiveSigmaDepth', 'airmass', 'fieldDec']\n",
      "Found 173012 visits\n",
      "Running:  ['DCR_20_g', 'DCR_20_g_Bv', 'DCR_22_g', 'DCR_22_g_Bv']\n"
     ]
    },
    {
     "name": "stderr",
     "output_type": "stream",
     "text": [
      "/home/idies/lsst/python/miniconda3-4.7.10/envs/lsst-scipipe-4d7b902/lib/python3.7/site-packages/ipykernel_launcher.py:72: RuntimeWarning: invalid value encountered in sqrt\n",
      "/home/idies/lsst/python/miniconda3-4.7.10/envs/lsst-scipipe-4d7b902/lib/python3.7/site-packages/ipykernel_launcher.py:72: RuntimeWarning: divide by zero encountered in double_scalars\n"
     ]
    },
    {
     "name": "stdout",
     "output_type": "stream",
     "text": [
      "Completed metric generation.\n",
      "Running reduce methods.\n",
      "Running summary statistics.\n",
      "Completed.\n"
     ]
    }
   ],
   "source": [
    "group = metricBundles.MetricBundleGroup(bundleDict, opsdb, outDir=tmp_OutDir, resultsDb=resultDb)\n",
    "group.runAll()"
   ]
  },
  {
   "cell_type": "markdown",
   "metadata": {},
   "source": [
    "### 2. Derive & Test the Scaling Relationship"
   ]
  },
  {
   "cell_type": "markdown",
   "metadata": {},
   "source": [
    "<span style='color:red'>__IMPORTANT:__</span> From the plot shown a few cells below, the slope uncertainty actually doesn't scale nor the astrometric precision due the error floor `atm_err`. So the derivation shown below is useless but a good excersice. \n",
    "\n",
    "Let's first dervie it. The derivation is based on Peter's version for calculating the fitted slope uncertainty. We will use $\\sigma_{total}$ to denote the 'total_slope_uncerts' and $\\sigma_{arr}$ to denote the 'slope_uncerts' in the __AGN_DCR__ metric above. Note that we will not use the PA in the calculation as the PA terms will drop out in the end anyway.\n",
    "\n",
    "$$ \\log\\,(\\sigma_{total}) = -\\frac{1}{2}\\log\\,(\\sum \\frac{1}{\\sigma_{arr}^{2}}) ~and~ \\sigma_{arr} = \\frac{\\Delta y}{x}$$\n",
    "=> \n",
    "$$\\log\\,(\\sigma_{total}) = -\\frac{1}{2}\\log\\,(\\sum \\frac{x^{2}}{(\\Delta y)^{2}})$$\n",
    "\n",
    "Meanwhile:\n",
    "$$\\Delta y = seeing/snr = seeing/5*10^{-0.4*(m-m5)}$$\n",
    "=>\n",
    "$$\\log\\,(\\Delta y) = \\log\\,(seeing) + \\log\\,(1/5) + 0.4*(m-m5)*\\log\\,(10)$$\n",
    "\n",
    "Consider the seeing doesn't change as we change the source magnitude, if we use $\\Delta y_{0}$ denote the astrometric error for a reference magnitude and $\\Delta y_{1}$ denote the astrometric error at an arbitrary magnitude, then: \n",
    "\n",
    "$$\\log\\,(\\Delta y_{1}/\\Delta y_{0}) = 0.4*(m_{1} - m5)*\\log(10) - 0.4*(m_{0} - m5)*\\log(10) = 0.4*\\log(10)*(m_{1} - m_{0})$$\n",
    "\n",
    "If we set $\\Delta y_{1}/\\Delta y_{0} = \\alpha$, then for an arbitrary source magnitde,\n",
    "\n",
    "$$\\log(\\sigma_{total}) = -\\frac{1}{2}\\log\\,(\\sum \\frac{x^{2}}{(\\Delta y_{0})^{2}*\\alpha^{2}})$$\n",
    "=>\n",
    "$$\\log(\\sigma_{total}) = -\\frac{1}{2}\\log\\,(\\alpha^{-2}*\\sum \\frac{x^{2}}{(\\Delta y_{0})^{2}}) \n",
    "                       = -\\frac{1}{2}\\log\\,(\\sum \\frac{x^{2}}{(\\Delta y_{0})^{2}}) + \\log(\\alpha)\n",
    "                       = \\log(\\sigma_{total\\_ref}) + 0.4*\\log(10)*(m_{1} - m_{0})$$\n",
    "                       \n",
    "where in the equation above $\\log(\\sigma_{total})$ is the log of the total slope uncertainty at an arbitrary source magnitude and $\\log(\\sigma_{total\\_ref})$ is the total slope uncertainty at the reference magnitude. \n",
    "\n",
    "Next, let's put the above derviation into a function"
   ]
  },
  {
   "cell_type": "code",
   "execution_count": 62,
   "metadata": {},
   "outputs": [],
   "source": [
    "# This function assumes data in a numpy array-like structure\n",
    "def dcr_scale(data, ref_mag, src_mag):\n",
    "\n",
    "    ln_uncert = np.log(data) + 0.4*(src_mag - ref_mag)    \n",
    "    return np.exp(ln_uncert)"
   ]
  },
  {
   "cell_type": "code",
   "execution_count": 63,
   "metadata": {},
   "outputs": [],
   "source": [
    "# use the 20th mag as reference as compute the 22nd mag slope undertainty\n",
    "mask_20 = group.bundleDict['DCR_20_g'].metricValues.mask\n",
    "data_20 = group.bundleDict['DCR_20_g'].metricValues.data[~mask_20]\n",
    "data_20 = data_20[~(np.isnan(data_20) | np.isinf(data_20))]\n",
    "\n",
    "mask_22 = group.bundleDict['DCR_22_g'].metricValues.mask\n",
    "data_22 = group.bundleDict['DCR_22_g'].metricValues.data[~mask_22]\n",
    "data_22 = data_22[~(np.isnan(data_22) | np.isinf(data_22))]\n",
    "\n",
    "data_22_scale = dcr_scale(data_20, 20, 22)"
   ]
  },
  {
   "cell_type": "code",
   "execution_count": 79,
   "metadata": {},
   "outputs": [
    {
     "data": {
      "text/plain": [
       "<matplotlib.legend.Legend at 0x7f3081285da0>"
      ]
     },
     "execution_count": 79,
     "metadata": {},
     "output_type": "execute_result"
    },
    {
     "data": {
      "image/png": "[encoded data removed]",
      "text/plain": [
       "<Figure size 600x400 with 1 Axes>"
      ]
     },
     "metadata": {
      "needs_background": "light"
     },
     "output_type": "display_data"
    }
   ],
   "source": [
    "# now let's plot to see any difference\n",
    "plt.hist(np.log10(data_22), histtype='step', label='DCR_22_g', bins='fd')\n",
    "plt.hist(np.log10(data_20), histtype='step', label='DCR_20_g', bins='fd')\n",
    "plt.xlim(right=-1.5)\n",
    "plt.xlabel('log10($\\\\sigma_{slope}$)', fontsize=12)\n",
    "plt.ylabel('Normalized Density', fontsize=12)\n",
    "plt.title('Distriubtion of DCR slope undertainties')\n",
    "plt.legend(loc=1)"
   ]
  },
  {
   "cell_type": "markdown",
   "metadata": {},
   "source": [
    "<span style='color:red'>__Conclusion:__</span> The slope uncertainties DO NOT scale lineraly in the log space with the source magnidue because of the `atm_err` term (see the metric definition) in the calculation of the astrometric precision. "
   ]
  },
  {
   "cell_type": "markdown",
   "metadata": {},
   "source": [
    "## 3. Compare two methods to compute slope uncertainty\n",
    "__Note:__ Labels end with `*_Bv` representing the Bevington version"
   ]
  },
  {
   "cell_type": "code",
   "execution_count": 68,
   "metadata": {},
   "outputs": [],
   "source": [
    "mask_20_Bv = group.bundleDict['DCR_20_g_Bv'].metricValues.mask\n",
    "data_20_Bv = group.bundleDict['DCR_20_g_Bv'].metricValues.data[~mask_20_Bv]\n",
    "data_20_Bv = data_20_Bv[~(np.isnan(data_20_Bv) | np.isinf(data_20_Bv))]\n",
    "\n",
    "mask_22_Bv = group.bundleDict['DCR_22_g_Bv'].metricValues.mask\n",
    "data_22_Bv = group.bundleDict['DCR_22_g_Bv'].metricValues.data[~mask_22_Bv]\n",
    "data_22_Bv = data_22_Bv[~(np.isnan(data_22_Bv) | np.isinf(data_22_Bv))]"
   ]
  },
  {
   "cell_type": "code",
   "execution_count": 95,
   "metadata": {},
   "outputs": [
    {
     "name": "stderr",
     "output_type": "stream",
     "text": [
      "/home/idies/lsst/python/miniconda3-4.7.10/envs/lsst-scipipe-4d7b902/lib/python3.7/site-packages/ipykernel_launcher.py:2: RuntimeWarning: invalid value encountered in less\n",
      "  \n",
      "/home/idies/lsst/python/miniconda3-4.7.10/envs/lsst-scipipe-4d7b902/lib/python3.7/site-packages/ipykernel_launcher.py:4: RuntimeWarning: invalid value encountered in less\n",
      "  after removing the cwd from sys.path.\n"
     ]
    },
    {
     "data": {
      "text/plain": [
       "<matplotlib.legend.Legend at 0x7f3080c27128>"
      ]
     },
     "execution_count": 95,
     "metadata": {},
     "output_type": "execute_result"
    },
    {
     "data": {
      "image/png": "[encoded data removed]",
      "text/plain": [
       "<Figure size 800x600 with 1 Axes>"
      ]
     },
     "metadata": {
      "needs_background": "light"
     },
     "output_type": "display_data"
    }
   ],
   "source": [
    "fig = plt.figure(figsize=(8,6))\n",
    "plt.hist(np.log10(data_22_Bv[data_22_Bv < 100]), histtype='step', \\\n",
    "         label='DCR_22_g_Bv', bins='fd', color='tab:orange')\n",
    "plt.hist(np.log10(data_20_Bv[data_20_Bv < 100]), histtype='step', \\\n",
    "         label='DCR_20_g_Bv', bins='fd', color='tab:blue')\n",
    "plt.hist(np.log10(data_22), histtype='step', label='DCR_22_g', \\\n",
    "         bins='fd', color='tab:orange', linestyle='--')\n",
    "plt.hist(np.log10(data_20), histtype='step', label='DCR_20_g', \\\n",
    "         bins='fd', color='tab:blue', linestyle='--')\n",
    "plt.xlim(right=-0.5)\n",
    "plt.xlabel('log10($\\\\sigma_{slope}$)', fontsize=15)\n",
    "plt.ylabel('Normalized Density', fontsize=15)\n",
    "plt.title('Distriubtion of DCR slope undertainties', fontsize=18)\n",
    "plt.legend(loc=1)"
   ]
  },
  {
   "cell_type": "code",
   "execution_count": null,
   "metadata": {},
   "outputs": [],
   "source": []
  }
 ],
 "metadata": {
  "anaconda-cloud": {},
  "kernelspec": {
   "display_name": "Python 3",
   "language": "python",
   "name": "python3"
  },
  "language_info": {
   "codemirror_mode": {
    "name": "ipython",
    "version": 3
   },
   "file_extension": ".py",
   "mimetype": "text/x-python",
   "name": "python",
   "nbconvert_exporter": "python",
   "pygments_lexer": "ipython3",
   "version": "3.7.2"
  }
 },
 "nbformat": 4,
 "nbformat_minor": 4
}
